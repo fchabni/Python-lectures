{
 "cells": [
  {
   "cell_type": "markdown",
   "metadata": {},
   "source": [
    "# Introduction: \n",
    "\n",
    "*CHABNI Fayçal*\n",
    "\n",
   ]
  },
